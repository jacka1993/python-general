{
 "cells": [
  {
   "cell_type": "code",
   "execution_count": null,
   "metadata": {},
   "outputs": [],
   "source": [
    "import os\n",
    "import filetype\n",
    "import shutil\n",
    "\n",
    "#Directory to parse\n",
    "directory = \"/Volumes/GoogleDrive/My Drive/Enterprise digital/Clients/Google/Zipline/Outputs_Final/Receipts\"\n",
    "#directory = \"/Users/jjackaeast001/Desktop/Receipts/pdfs\"\n",
    "\n",
    "counter= 0\n",
    "\n",
    "#Get Filetypes\n",
    "for myFile in os.listdir(directory):\n",
    "    try:\n",
    "        kind = filetype.guess(directory + \"/\" + myFile)\n",
    "        if kind is None:\n",
    "            print('Cannot guess file type!')\n",
    "        else:\n",
    "            print(kind.extension)\n",
    "            if myFile[-3:] != kind.extension:\n",
    "                counter +=1\n",
    "                base = os.path.splitext(myFile)[0]\n",
    "                os.rename(directory + \"/\" + myFile, directory + \"/\" + base + \".\" + kind.extension) \n",
    "    except:\n",
    "        pass\n",
    "        \n",
    "print(\"Files converted: \"+str(counter))"
   ]
  },
  {
   "cell_type": "code",
   "execution_count": 4,
   "metadata": {},
   "outputs": [
    {
     "name": "stdout",
     "output_type": "stream",
     "text": [
      "47\n"
     ]
    }
   ],
   "source": [
    "#MOVE FILES PARSED BY KAI'S CODE TO PROCESSED RECEIPTS FOLDER\n",
    "import os\n",
    "import filetype\n",
    "import shutil\n",
    "\n",
    "directory = \"/Users/jjackaeast001/Documents/Projects/Zipline/Zipline_Main\"\n",
    "directory2 = \"/Users/jjackaeast001/Documents/Projects/Zipline/receipts/processed/pngs/\"\n",
    "counter = 0\n",
    "for myFolder in next(os.walk(directory))[1]:\n",
    "    if os.path.isfile(directory+'/'+myFolder+'/'+myFolder+'_thresh.png'):\n",
    "        shutil.move(directory+'/'+myFolder+'/'+myFolder+'_thresh.png',directory2+'/'+myFolder+'.png')\n",
    "        \n",
    "        \n",
    "        counter+=1\n",
    "    \n",
    "print(counter)"
   ]
  },
  {
   "cell_type": "code",
   "execution_count": null,
   "metadata": {},
   "outputs": [],
   "source": []
  }
 ],
 "metadata": {
  "kernelspec": {
   "display_name": "Python (Python366)",
   "language": "python",
   "name": "python366"
  },
  "language_info": {
   "codemirror_mode": {
    "name": "ipython",
    "version": 3
   },
   "file_extension": ".py",
   "mimetype": "text/x-python",
   "name": "python",
   "nbconvert_exporter": "python",
   "pygments_lexer": "ipython3",
   "version": "3.6.6"
  }
 },
 "nbformat": 4,
 "nbformat_minor": 2
}
