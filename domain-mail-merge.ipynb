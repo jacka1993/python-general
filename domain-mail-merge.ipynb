{
 "cells": [
  {
   "cell_type": "code",
   "execution_count": 15,
   "metadata": {},
   "outputs": [
    {
     "name": "stdout",
     "output_type": "stream",
     "text": [
      "Done\n"
     ]
    }
   ],
   "source": [
    "# To run code, first need to install the following packages into Python\n",
    "# 1. pandas\n",
    "# 2. lxml\n",
    "# 3. docx-mailmerge\n",
    "# 4. docx2pdf\n",
    "\n",
    "from __future__ import print_function\n",
    "from mailmerge import MailMerge\n",
    "import pandas\n",
    "from docx2pdf import convert\n",
    "\n",
    "#Paths\n",
    "wordPath = \"/Volumes/GoogleDrive/My Drive/Enterprise digital/Clients/Domain/AOM letter templates/\"\n",
    "# wordPath = \"/Volumes/GoogleDrive/My Drive/Enterprise digital/Clients/Domain/AOM letter templates/Western Australia Real Estate Media Pty Ltd.docx\"\n",
    "excelPath = \"/Volumes/GoogleDrive/My Drive/Enterprise digital/Clients/Domain/Platinum Listings May 2020 (FINAL Send to PwC).xlsx\"\n",
    "outputPath = '/Volumes/GoogleDrive/My Drive/Enterprise digital/Clients/Domain/Outputs/'\n",
    "\n",
    "#blank variables for population\n",
    "all_invoices = []\n",
    "sum_net_amount = 0\n",
    "sum_gst = 0\n",
    "sum_gross = 0\n",
    "invoice_count = 0\n",
    "\n",
    "#Read in Excel\n",
    "df = pandas.read_excel(excelPath,skiprows=1)\n",
    "df.fillna(0, inplace=True)\n",
    "\n",
    "#Loop through Excel\n",
    "for i in range(0,len(df)-1):\n",
    "# for i in range(0,100):\n",
    "    #Append the new row to our all_invoices variable\n",
    "    all_invoices.append({\n",
    "        'Booking_Number': str(df.loc[i, \"Booking Number\"]),\n",
    "        'Invoice_Date': str(df.loc[i, \"Invoice Date\"])[0:10],\n",
    "        'Invoice_Number': str(df.loc[i, \"Invoice Number\"]),\n",
    "        'Caption_Text': str(df.loc[i, \"Caption Text\"]),\n",
    "        'Net_Revenue': str(df.loc[i, \"Net Revenue\"]),\n",
    "        'Invoice_GST': str(df.loc[i, \"GST\"]),\n",
    "        'Gross_Revenue': str(df.loc[i, \"Gross Revenue\"]),\n",
    "    })\n",
    "    \n",
    "    #Update counts and totals\n",
    "    sum_net_amount = sum_net_amount + df.loc[i, \"Net Revenue\"]\n",
    "    sum_gst = sum_gst + df.loc[i, \"GST\"]\n",
    "    sum_gross = sum_gross + df.loc[i, \"Gross Revenue\"]\n",
    "    invoice_count = invoice_count + 1\n",
    "    \n",
    "\n",
    "    #if account number in the next row is the same, then do nothing and keep appending\n",
    "    #Otherwise, write data and clear variables\n",
    "    if i == len(df)-1 or (str(df.loc[i, \"Account Number\"])!=str(df.loc[i+1, \"Account Number\"])):\n",
    "        \n",
    "        #new document†\n",
    "        document = MailMerge(wordPath+str(df.loc[i, \"AOM\"])+'.docx')\n",
    "#         document = MailMerge(wordPath)\n",
    "        \n",
    "        #Merge 1:1 variables using format: str(df.loc[i, \"Excel_Column_Name\"])\n",
    "        document.merge(\n",
    "        Sum_of_Gross_Revenue= str(sum_gross),\n",
    "        Account_PostCode=str(df.loc[i, \"Account_PostCode\"]),\n",
    "        Account_Number=str(df.loc[i, \"Account Number\"]),\n",
    "        Account_Name=str(df.loc[i, \"Account Name\"]),\n",
    "        Sum_of_GST=str(sum_gst),\n",
    "        Account_Suburb=str(df.loc[i, \"Account_Suburb\"]),\n",
    "        Account_Address_1=str(df.loc[i, \"Account_Address_1\"]),\n",
    "        Count_of_Invoice_Number=str(invoice_count),\n",
    "        Account_State=str(df.loc[i, \"Account_State\"]),\n",
    "        Sum_of_Net_Revenue=str(sum_net_amount)\n",
    "        )\n",
    "\n",
    "        #Merge the data table - item in red must be the variable in table column 1\n",
    "        document.merge_rows('Booking_Number', all_invoices)\n",
    "\n",
    "        #Write to file using account number column as naming convention\n",
    "        if str(df.loc[i, \"Account Number\"]) == '1001674889':\n",
    "            document.write(outputPath + 'Letter-' + str(df.loc[i, \"Account Number\"]) + '.docx')\n",
    "\n",
    "        #Clear variables to prepare for next invoice\n",
    "        all_invoices = []\n",
    "        sum_net_amount = 0\n",
    "        sum_gst = 0\n",
    "        sum_gross = 0\n",
    "        invoice_count = 0\n",
    "\n",
    "print(\"Done\")"
   ]
  },
  {
   "cell_type": "code",
   "execution_count": 2,
   "metadata": {},
   "outputs": [
    {
     "data": {
      "application/vnd.jupyter.widget-view+json": {
       "model_id": "0b3f8174f0904c14aea6910ae2ade4ec",
       "version_major": 2,
       "version_minor": 0
      },
      "text/plain": [
       "HBox(children=(FloatProgress(value=0.0, max=526.0), HTML(value='')))"
      ]
     },
     "metadata": {},
     "output_type": "display_data"
    }
   ],
   "source": [
    "from docx2pdf import convert\n",
    "outputPath = '/Volumes/GoogleDrive/My Drive/Enterprise digital/Clients/Domain/Outputs/'\n",
    "convert(outputPath)\n"
   ]
  },
  {
   "cell_type": "code",
   "execution_count": 16,
   "metadata": {},
   "outputs": [
    {
     "name": "stdout",
     "output_type": "stream",
     "text": [
      "6689\n"
     ]
    }
   ],
   "source": [
    "import os\n",
    "from shutil import copyfile\n",
    "import csv   \n",
    "\n",
    "excelPath = \"/Volumes/GoogleDrive/My Drive/Enterprise digital/Clients/Domain/Platinum Listings May 2020 (FINAL Send to PwC).xlsx\"\n",
    "#Read in Excel\n",
    "df = pandas.read_excel(excelPath,skiprows=1)\n",
    "\n",
    "counter = 0\n",
    "\n",
    "#Loop through Excel\n",
    "# for i in range(0,20):\n",
    "for i in range(0,len(df)-1):\n",
    "    if str(df.loc[i, \"AOM\"]) == \"New South Wales Real Estate Media Pty Ltd\":\n",
    "        folder = 'NSW'\n",
    "    elif str(df.loc[i, \"AOM\"]) == \"Queensland Real Estate Media Pty Ltd\":\n",
    "        folder = 'QLD'\n",
    "    elif str(df.loc[i, \"AOM\"]) == \"Victoria Real Estate Media Pty Ltd\":\n",
    "        folder = 'VIC'\n",
    "    elif str(df.loc[i, \"AOM\"]) == \"South Australia Real Estate Media Pty Ltd\":\n",
    "        folder = 'SA'\n",
    "    elif str(df.loc[i, \"AOM\"]) == \"Tasmania Real Estate Media Pty Ltd\":\n",
    "        folder = 'TAS'\n",
    "    elif str(df.loc[i, \"AOM\"]) == \"Western Australia Real Estate Media Pty Ltd\":\n",
    "        folder = 'WA'\n",
    "    elif str(df.loc[i, \"AOM\"]) == \"Northern Territory Real Estate Media Pty Ltd\":\n",
    "        folder = 'NT'\n",
    "    else:\n",
    "        folder = 'Other'\n",
    "        \n",
    "    directory = '/Volumes/GoogleDrive/My Drive/Enterprise digital/Clients/Domain/Outputs/'\n",
    "    newpath = '/Volumes/GoogleDrive/My Drive/Enterprise digital/Clients/Domain/Outputs/'+ folder + '/'\n",
    "    file = \"Letter-\" + str(df.loc[i, \"Account Number\"]) + \".pdf\"\n",
    "      \n",
    "    try:\n",
    "        copyfile(os.path.join(directory,file),os.path.join(newpath, file))\n",
    "    except:\n",
    "        print(\"failed for: \", file)\n",
    "    counter = counter + 1\n",
    "\n",
    "print(counter)\n",
    "    "
   ]
  },
  {
   "cell_type": "code",
   "execution_count": null,
   "metadata": {},
   "outputs": [],
   "source": []
  }
 ],
 "metadata": {
  "kernelspec": {
   "display_name": "Python 3",
   "language": "python",
   "name": "python3"
  },
  "language_info": {
   "codemirror_mode": {
    "name": "ipython",
    "version": 3
   },
   "file_extension": ".py",
   "mimetype": "text/x-python",
   "name": "python",
   "nbconvert_exporter": "python",
   "pygments_lexer": "ipython3",
   "version": "3.7.3"
  }
 },
 "nbformat": 4,
 "nbformat_minor": 2
}
