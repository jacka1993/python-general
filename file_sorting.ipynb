{
 "cells": [
  {
   "cell_type": "code",
   "execution_count": null,
   "metadata": {},
   "outputs": [],
   "source": [
    "from wand.image import Image as wimage\n",
    "from IPython.display import clear_output\n",
    "import os\n",
    "import shutil\n",
    "\n",
    "#Directory to parse\n",
    "directory = \"/Volumes/GoogleDrive/My Drive/Enterprise digital/Clients/Google/Zipline/Outputs_Final/\"\n",
    "\n",
    "#Remove any duplicates\n",
    "prevFile = \"\"\n",
    "for myFile in os.listdir(directory):\n",
    "    if myFile[-12:] == prevFile[-12:]:\n",
    "        shutil.move(directory + myFile,\n",
    "                    directory + \"/Duplicates_Archive/\" + myFile)\n",
    "    prevFile = myFile\n",
    "\n",
    "print(\"Duplicates removed.\")"
   ]
  },
  {
   "cell_type": "code",
   "execution_count": null,
   "metadata": {},
   "outputs": [],
   "source": [
    "### run file parse script\n",
    "for myfile in os.listdir(directory):\n",
    "    if myfile.endswith(\".pdf\"):\n",
    "        path = directory + myfile\n",
    "        try:\n",
    "            img = wimage(filename=path)\n",
    "            img.format = 'png'\n",
    "            img.resize(450, 350)\n",
    "            display(img)\n",
    "            print(path)\n",
    "            decision = input(\"1 = Receipt, 2 = Invoice, 3 = Other\")\n",
    "            if decision == \"1\":\n",
    "                subdirectory = \"Receipts\"\n",
    "            elif decision == \"2\":\n",
    "                subdirectory = \"Invoices\"\n",
    "            elif decision == \"3\":\n",
    "                subdirectory = \"Other\"\n",
    "            else:\n",
    "                subdirectory = \"\"\n",
    "\n",
    "            if subdirectory != \"\":\n",
    "                print(path)\n",
    "                print(directory + \"/\" + subdirectory + \"/\" + myfile)\n",
    "                #os.rename(path, directory + \"/\" + subdirectory + \"/\" + myfile)\n",
    "                shutil.move(path,\n",
    "                            directory + \"/\" + subdirectory + \"/\" + myfile)\n",
    "                clear_output()\n",
    "        except Exception as e:\n",
    "            pass\n",
    "\n",
    "    clear_output()"
   ]
  },
  {
   "cell_type": "code",
   "execution_count": null,
   "metadata": {},
   "outputs": [],
   "source": []
  },
  {
   "cell_type": "code",
   "execution_count": null,
   "metadata": {},
   "outputs": [],
   "source": [
    "import os\n",
    "import shutil\n",
    "\n",
    "#next(os.walk(imgs_path))[1]\n",
    "\n",
    "directory = \"/Users/jjackaeast001/Documents/Projects/Zipline/Receipts/processed/kai_debug\"\n",
    "\n",
    "for myFile in next(os.walk(directory))[1]:\n",
    "    if os.path.isfile(directory+\"/\"+myFile+\"/\"+myFile+\"_debug_6_output.png\") == True:\n",
    "        print(directory+\"/\"+myFile+\"/\"+myFile+\"_debug_6_output.png\")\n",
    "        print(\"/Users/jjackaeast001/Documents/Projects/Zipline/Receipts/processed/kai_debug/r_1799031_10942442_1661602/r_1799031_10942442_1661602_debug_6_output.png\")\n",
    "        print(\"Yes\")\n",
    "        shutil.move(directory+\"/\"+myFile+\"/\"+myFile+\"_debug_6_output.png\",\"/Users/jjackaeast001/Documents/Projects/Zipline/Receipts/processed/output_pngs\")\n",
    "    else:\n",
    "        print(\"No\")\n",
    "\n"
   ]
  },
  {
   "cell_type": "code",
   "execution_count": null,
   "metadata": {},
   "outputs": [],
   "source": []
  },
  {
   "cell_type": "code",
   "execution_count": 21,
   "metadata": {},
   "outputs": [
    {
     "name": "stdout",
     "output_type": "stream",
     "text": [
      "0\n",
      "2106\n"
     ]
    }
   ],
   "source": [
    "import os\n",
    "import shutil\n",
    "\n",
    "directory = \"/Users/jjackaeast001/Documents/Projects/Zipline/Receipts/originalimgs/\"\n",
    "\n",
    "counter=0\n",
    "for myFile in os.listdir(directory):\n",
    "    if myFile[0] != \"r\" and not \"-\" in myFile:\n",
    "        counter+=1\n",
    "        os.rename(directory + myFile,directory + \"r_\" + myFile)\n",
    "print(counter)\n",
    "\n",
    "for myFile in os.listdir(directory):\n",
    "    if myFile[0] == \"r\":\n",
    "        counter+=1\n",
    "print(counter)"
   ]
  },
  {
   "cell_type": "code",
   "execution_count": null,
   "metadata": {},
   "outputs": [],
   "source": []
  },
  {
   "cell_type": "code",
   "execution_count": null,
   "metadata": {},
   "outputs": [],
   "source": []
  }
 ],
 "metadata": {
  "kernelspec": {
   "display_name": "Python (Python366)",
   "language": "python",
   "name": "python366"
  },
  "language_info": {
   "codemirror_mode": {
    "name": "ipython",
    "version": 3
   },
   "file_extension": ".py",
   "mimetype": "text/x-python",
   "name": "python",
   "nbconvert_exporter": "python",
   "pygments_lexer": "ipython3",
   "version": "3.6.6"
  }
 },
 "nbformat": 4,
 "nbformat_minor": 2
}
